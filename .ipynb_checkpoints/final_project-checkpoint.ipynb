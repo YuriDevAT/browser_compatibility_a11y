{
 "cells": [
  {
   "cell_type": "markdown",
   "id": "68420520-ac0f-490d-80e9-1d6109fdca4a",
   "metadata": {
    "tags": []
   },
   "source": [
    "# Browser Support For Web Accessibility API"
   ]
  },
  {
   "cell_type": "markdown",
   "id": "ada1ab2d-bc8d-438f-8bc9-73422efc396c",
   "metadata": {},
   "source": [
    "In order for people who use screen readers to perceive content on the web, they rely on the proper use of HTML tags, CSS properties, and JavaScript widgets to work correctly with the [Accessibility API](https://www.w3.org/TR/core-aam-1.1/)."
   ]
  },
  {
   "cell_type": "markdown",
   "id": "2764106f-b807-4946-8e4c-b8b6a1309072",
   "metadata": {},
   "source": [
    "There are several different browsers, as well as screen readers. Depending on which screen reader is used with which browser, the outcome slightly defers. "
   ]
  },
  {
   "cell_type": "markdown",
   "id": "ff0aaf28-175d-4008-98f4-854a79de995f",
   "metadata": {},
   "source": [
    "Not every browser supports all [HTML tags](https://developer.mozilla.org/en-US/docs/Web/HTML/Element) and [CSS properties](https://developer.mozilla.org/en-US/docs/Web/CSS/Reference#Keyword_index) currently out there, but the team behind it (link to WCAG or CSS working group) is constantly working on updates and supports to make the user experience to screen reader users the same as for users, who do not use screen readers."
   ]
  },
  {
   "cell_type": "markdown",
   "id": "5f0853aa-391e-425e-8a30-6ac5e899b704",
   "metadata": {},
   "source": [
    "Best browser support table EXAMPLE IMAGE"
   ]
  },
  {
   "cell_type": "markdown",
   "id": "35948b93-35d3-4942-bf6b-c2b65865a19d",
   "metadata": {
    "tags": []
   },
   "source": [
    "## What is this project about?"
   ]
  },
  {
   "cell_type": "markdown",
   "id": "33c67de7-5741-4517-b479-93b2ba7ba39c",
   "metadata": {},
   "source": [
    "By using the following data sets and techniques, I want to answer following questions:\n",
    "\n",
    "- How many HTML tags and CSS properties are supported?\n",
    "- Does every browser support the same (ammount) of HTML tags and CSS props?\n",
    "- Which browser supports the most tags and props?\n",
    "- How did browser support for HTML tags and CSS properties change over the years?\n",
    "- How did browsers develop over the years?\n",
    "\n",
    "The data sets can be found ...\n",
    "- w3schools.com\n",
    "- https://caniuse.com/\n",
    "- MDN to each [HTML tag](https://developer.mozilla.org/en-US/docs/Web/HTML/Element) and [CSS prop](https://developer.mozilla.org/en-US/docs/Web/CSS/)\n",
    "\n",
    "Techniques used\n",
    "- [Beautiful Soup](https://www.crummy.com/software/BeautifulSoup/)\n",
    "- [Pandas](https://pandas.pydata.org/docs/)\n",
    "\n",
    "I am going to print out all HTML tags and CSS properties using Beautiful Soup. Statistics will be done using Pandas. - First get a list of all tags and properties, then going into more advanced visualization of the data."
   ]
  },
  {
   "cell_type": "markdown",
   "id": "15f5324c-9b93-4b45-821d-2dcd7597bbc7",
   "metadata": {},
   "source": [
    "## Get all HTML tags and CSS properties"
   ]
  },
  {
   "cell_type": "markdown",
   "id": "ac625dcc-f726-4df9-8efe-c5f0c2db9830",
   "metadata": {},
   "source": [
    "I am starting my first attemped on getting all HTML tags and CSS properties by using Beautiful Soup library.\n",
    "\n",
    "Beautiful Soup helps you ......"
   ]
  },
  {
   "cell_type": "markdown",
   "id": "c3f7b52c-4676-4c90-913b-dd6f55a2bbdc",
   "metadata": {},
   "source": [
    "### HTML tags"
   ]
  },
  {
   "cell_type": "markdown",
   "id": "858443aa-21ea-4606-9d24-283d5775c303",
   "metadata": {},
   "source": [
    "Let's start with listing all the HTML tags in a table and count how many HTML tags exist."
   ]
  },
  {
   "cell_type": "code",
   "execution_count": 11,
   "id": "13cb5cc7-e33e-4e6d-af8f-9cbd60995b91",
   "metadata": {},
   "outputs": [
    {
     "ename": "AttributeError",
     "evalue": "'list' object has no attribute 'replace'",
     "output_type": "error",
     "traceback": [
      "\u001b[0;31m---------------------------------------------------------------------------\u001b[0m",
      "\u001b[0;31mAttributeError\u001b[0m                            Traceback (most recent call last)",
      "Input \u001b[0;32mIn [11]\u001b[0m, in \u001b[0;36m<cell line: 13>\u001b[0;34m()\u001b[0m\n\u001b[1;32m     10\u001b[0m tags \u001b[38;5;241m=\u001b[39m tag_list\u001b[38;5;241m.\u001b[39mfind_all(\u001b[38;5;124m\"\u001b[39m\u001b[38;5;124mcode\u001b[39m\u001b[38;5;124m\"\u001b[39m)\n\u001b[1;32m     12\u001b[0m new_list \u001b[38;5;241m=\u001b[39m \u001b[38;5;28mlist\u001b[39m(\u001b[38;5;28mset\u001b[39m(tags))\n\u001b[0;32m---> 13\u001b[0m my_new_list \u001b[38;5;241m=\u001b[39m \u001b[43mnew_list\u001b[49m\u001b[38;5;241;43m.\u001b[39;49m\u001b[43mreplace\u001b[49m(\u001b[38;5;124m\"\u001b[39m\u001b[38;5;124m<\u001b[39m\u001b[38;5;124m\"\u001b[39m, \u001b[38;5;124m\"\u001b[39m\u001b[38;5;124m\"\u001b[39m)\n",
      "\u001b[0;31mAttributeError\u001b[0m: 'list' object has no attribute 'replace'"
     ]
    }
   ],
   "source": [
    "from bs4 import BeautifulSoup\n",
    "import requests\n",
    "\n",
    "url = \"https://developer.mozilla.org/en-US/docs/Web/HTML/Element\"\n",
    "\n",
    "response = requests.get(url)\n",
    "soup = BeautifulSoup(response.text, \"html.parser\")\n",
    "\n",
    "tag_list = soup.find(\"article\", class_=\"main-page-content\")\n",
    "tags = tag_list.find_all(\"code\")\n",
    "\n",
    "new_list = list(set(tags))"
   ]
  },
  {
   "cell_type": "markdown",
   "id": "d773dad8-0ef1-4cb9-8bca-23363573926a",
   "metadata": {},
   "source": [
    "#### How many HTML do currently exist?"
   ]
  },
  {
   "cell_type": "code",
   "execution_count": 7,
   "id": "aa848d39-5eab-4a49-8f81-0893e34c9db9",
   "metadata": {},
   "outputs": [
    {
     "name": "stdout",
     "output_type": "stream",
     "text": [
      "There are currently 210 tags.\n"
     ]
    }
   ],
   "source": [
    "print(\"There are currently\", len(new_list), \"tags.\")"
   ]
  },
  {
   "cell_type": "markdown",
   "id": "a423d815-59d0-4936-a7b1-f4fab197f4ec",
   "metadata": {},
   "source": [
    "**What is happening in this piece of code:**\n",
    "\n",
    "\n",
    "1. In order to use Beautiful soup with all its options I imported the latest version of it. Since I want to request data from the DOM I also have to import requests.\n",
    "2. Then I am storing the URL I want to get the data from in a variable called url.\n",
    "3. Next I make a GET request to fetch the raw HTML content.\n",
    "4. To use the content I have to parse it in a language Python can understand by using Beautiful Soup.\n",
    "5. Since the website itself has much content on it, I have to be more specific about the data I want to parse. Do get deeper into the DOM, I first look for the `div` the list is in by using the `.fing()` method and then get the specific data with the `.findAll()` method.\n",
    "6. To get the number of how many HTML tags exists, I used the `len` method.\n",
    "6. To list all the HTML tags of the web page I finally run a `for loop` and `print` the tags, as seen in the next step."
   ]
  },
  {
   "cell_type": "code",
   "execution_count": 9,
   "id": "2edc754c-427b-463e-bb1d-0768466b4453",
   "metadata": {},
   "outputs": [
    {
     "name": "stdout",
     "output_type": "stream",
     "text": [
      "<map>\n",
      "</body>\n",
      "object\n",
      "<h2>\n",
      "td\n",
      "dd\n",
      "p\n",
      "<title>\n",
      "<code>\n",
      "fieldset\n",
      "<main>\n",
      "<span>\n",
      "<link>\n",
      "<bdo>\n",
      "del\n",
      "label\n",
      "<dl>\n",
      "small\n",
      "<dd>\n",
      "body\n",
      "<b>\n",
      "audio\n",
      "<applet>\n",
      "<center>\n",
      "<i>\n",
      "<audio>\n",
      "<param>\n",
      "<menu>\n",
      "<ol>\n",
      "<s>\n",
      "x-small\n",
      "datetime\n",
      "<math>\n",
      "scope\n",
      "<head>\n",
      "<th>\n",
      "<noscript>\n",
      "<ins>\n",
      "datalist\n",
      "id\n",
      "<frameset>\n",
      "<acronym>\n",
      "<caption>\n",
      "<source>\n",
      "<strong>\n",
      "<blink>\n",
      "rtc\n",
      "class\n",
      "<plaintext>\n",
      "<tr>\n",
      "src\n",
      "MediaStream\n",
      "<address>\n",
      "<wbr>\n",
      "<form>\n",
      "<u>\n",
      "<area>\n",
      "<h3>\n",
      "ruby\n",
      "<col>\n",
      "<summary>\n",
      "embed\n",
      "<dfn>\n",
      "rt\n",
      "<frame>\n",
      "strong\n",
      "<math>\n",
      "picture\n",
      "link\n",
      "headers\n",
      "<thead>\n",
      "dl\n",
      "<meter>\n",
      "frameset\n",
      "<tfoot>\n",
      "<object>\n",
      "<svg>\n",
      "<keygen>\n",
      "dt\n",
      "<noframes>\n",
      "img\n",
      "ul\n",
      "<marquee>\n",
      "tr\n",
      "<samp>\n",
      "select\n",
      "<font>\n",
      "<bdi>\n",
      "<strike>\n",
      "href\n",
      "<menuitem>\n",
      "<abbr>\n",
      "<h5>\n",
      "<mark>\n",
      "lang\n",
      "<shadow>\n",
      "<del>\n",
      "<nav>\n",
      "<select>\n",
      "<spacer>\n",
      "<dir>\n",
      "<table>\n",
      "figcaption\n",
      "<hr>\n",
      "<meta>\n",
      "<article>\n",
      "<style>\n",
      "base\n",
      "<textarea>\n",
      "<header>\n",
      "<rb>\n",
      "<dt>\n",
      "<base>\n",
      "<option>\n",
      "<input>\n",
      "<xmp>\n",
      "<canvas>\n",
      "slot\n",
      "<output>\n",
      "optgroup\n",
      "<section>\n",
      "<div>\n",
      "font-weight\n",
      "details\n",
      "large\n",
      "<a>\n",
      "<cite>\n",
      "option\n",
      "<optgroup>\n",
      "frame\n",
      "<h1>\n",
      ".vtt\n",
      "<td>\n",
      "time\n",
      "<portal>\n",
      "<figcaption>\n",
      "li\n",
      "<colgroup>\n",
      "<ul>\n",
      "<body>\n",
      "<aside>\n",
      "<dialog>\n",
      "<html>\n",
      "video\n",
      "<data>\n",
      "<blockquote>\n",
      "<em>\n",
      "<rt>\n",
      "<details>\n",
      "<template>\n",
      "<nobr>\n",
      "<time>\n",
      "div\n",
      "<var>\n",
      "menu\n",
      "<rp>\n",
      "<progress>\n",
      "colgroup\n",
      "summary\n",
      "<tbody>\n",
      "table\n",
      "blockquote\n",
      "<video>\n",
      "section\n",
      "<datalist>\n",
      "<footer>\n",
      "<li>\n",
      "<embed>\n",
      "style\n",
      "source\n",
      "<h4>\n",
      "<h6>\n",
      "<ruby>\n",
      "<track>\n",
      "<kbd>\n",
      "area\n",
      "<button>\n",
      "ins\n",
      "<small>\n",
      "title\n",
      "cite\n",
      "<pre>\n",
      "<sup>\n",
      "<iframe>\n",
      "figure\n",
      "<p>\n",
      "<picture>\n",
      "<big>\n",
      "<sub>\n",
      "<script>\n",
      "<rtc>\n",
      "<br>\n",
      "<q>\n",
      "<img>\n",
      "<fieldset>\n",
      "<slot>\n",
      "<label>\n",
      "th\n",
      "<legend>\n",
      "<noembed>\n",
      "<tt>\n",
      "<figure>\n",
      "medium\n",
      "<image>\n",
      "<content>\n",
      "script\n",
      "rb\n",
      "<bgsound>\n",
      "ol\n",
      "svg\n"
     ]
    }
   ],
   "source": [
    "for tag in new_list:\n",
    "    #print(tag.text, end= '\\t')\n",
    "    # or use 'print(tag.text)' to print each tag in a seperate line\n",
    "    #print(type(tag.text))\n",
    "    print(tag.text)"
   ]
  },
  {
   "cell_type": "markdown",
   "id": "e1644864-ae87-4499-91cb-a3eee957b5a8",
   "metadata": {},
   "source": [
    "Since the list of tags is pretty long, and using `end= '\\t'` to print it in a single line doesn't really seem readable, I decide on storing the data in a table and sort all tags alphabetically.\n",
    "This is were pandas comes into play."
   ]
  },
  {
   "cell_type": "code",
   "execution_count": 4,
   "id": "a672805c-a42f-4711-b461-ae1ceb6acfc6",
   "metadata": {},
   "outputs": [
    {
     "ename": "NameError",
     "evalue": "name 'new_list' is not defined",
     "output_type": "error",
     "traceback": [
      "\u001b[0;31m---------------------------------------------------------------------------\u001b[0m",
      "\u001b[0;31mNameError\u001b[0m                                 Traceback (most recent call last)",
      "Input \u001b[0;32mIn [4]\u001b[0m, in \u001b[0;36m<cell line: 15>\u001b[0;34m()\u001b[0m\n\u001b[1;32m      7\u001b[0m \u001b[38;5;66;03m#print(type(tag_data))\u001b[39;00m\n\u001b[1;32m      8\u001b[0m \u001b[38;5;66;03m#print(tag_data)\u001b[39;00m\n\u001b[1;32m      9\u001b[0m \n\u001b[1;32m     10\u001b[0m \u001b[38;5;66;03m#df = pd.DataFrame(tag_data)\u001b[39;00m\n\u001b[1;32m     11\u001b[0m \u001b[38;5;66;03m#df\u001b[39;00m\n\u001b[1;32m     13\u001b[0m columns \u001b[38;5;241m=\u001b[39m {}\n\u001b[0;32m---> 15\u001b[0m \u001b[38;5;28mprint\u001b[39m(\u001b[43mnew_list\u001b[49m[\u001b[38;5;241m0\u001b[39m])\n\u001b[1;32m     17\u001b[0m \u001b[38;5;28;01mfor\u001b[39;00m new_tag \u001b[38;5;129;01min\u001b[39;00m tag_data:\n\u001b[1;32m     18\u001b[0m     new_list \u001b[38;5;241m=\u001b[39m \u001b[38;5;28mlist\u001b[39m(new_tag)\n",
      "\u001b[0;31mNameError\u001b[0m: name 'new_list' is not defined"
     ]
    }
   ],
   "source": [
    "import pandas as pd\n",
    "\n",
    "tag_data = []\n",
    "for tag in tags:\n",
    "    tag_data.append({tag.text})\n",
    "    \n",
    "#print(type(tag_data))\n",
    "#print(tag_data)\n",
    "\n",
    "#df = pd.DataFrame(tag_data)\n",
    "#df\n",
    "\n",
    "columns = {}\n",
    "\n",
    "print(new_list[0])\n",
    "\n",
    "for new_tag in tag_data:\n",
    "    new_list = list(new_tag)\n",
    "    first_letter = new_list[0].upper()\n",
    "    if first_letter in columns:\n",
    "        columns[first_letter].append(new_list)\n",
    "    else:\n",
    "        columns[first_letter] = [new_list]\n",
    "            \n",
    "df = pd.DataFrame(columns)\n",
    "print(df)\n"
   ]
  },
  {
   "cell_type": "code",
   "execution_count": null,
   "id": "e11de169-5024-42a5-909d-ff9a8b82506c",
   "metadata": {},
   "outputs": [],
   "source": []
  },
  {
   "cell_type": "markdown",
   "id": "c055289c-4858-4af2-b6a5-93742f1cc389",
   "metadata": {},
   "source": [
    "Nice, I was able to get all tags in a table. But this is still not what I want my output to look like. I want to create a table were all tags are separated alphabetically. Therefore I added some additional information for the program to operate the task."
   ]
  },
  {
   "cell_type": "markdown",
   "id": "653ab60f-87fc-4745-88e2-c8da5fc7025c",
   "metadata": {},
   "source": [
    "### CSS Properties"
   ]
  },
  {
   "cell_type": "markdown",
   "id": "a6d92a50-e6fa-42a4-80cb-3657749b53f9",
   "metadata": {},
   "source": [
    "All HTML tags are fetched, now I am going to do the same with all the CSS properties."
   ]
  },
  {
   "cell_type": "code",
   "execution_count": null,
   "id": "692b3ba8-5eed-4557-8f62-21f98adb7900",
   "metadata": {},
   "outputs": [],
   "source": [
    "from bs4 import BeautifulSoup\n",
    "import requests\n",
    "\n",
    "url = \"https://developer.mozilla.org/en-US/docs/Web/CSS/Reference#Keyword_index\"\n",
    "\n",
    "response = requests.get(url)\n",
    "soup = BeautifulSoup(response.text, \"html.parser\")\n",
    "\n",
    "props_list = soup.find(\"div\", id=\"sect2\")\n",
    "props = props_list.find_all(\"code\")\n",
    "\n",
    "print(\"There are currently\", len(props), \"properties.\")\n",
    "\n",
    "prop_data = []\n",
    "for prop in props:\n",
    "    prop_data.append({\"Properties\": prop.text})\n",
    "\n",
    "print(type(prop_data))    \n",
    "    \n",
    "#df = pd.DataFrame(prop_data)\n",
    "#df"
   ]
  }
 ],
 "metadata": {
  "kernelspec": {
   "display_name": "Python 3 (ipykernel)",
   "language": "python",
   "name": "python3"
  },
  "language_info": {
   "codemirror_mode": {
    "name": "ipython",
    "version": 3
   },
   "file_extension": ".py",
   "mimetype": "text/x-python",
   "name": "python",
   "nbconvert_exporter": "python",
   "pygments_lexer": "ipython3",
   "version": "3.9.12"
  }
 },
 "nbformat": 4,
 "nbformat_minor": 5
}
