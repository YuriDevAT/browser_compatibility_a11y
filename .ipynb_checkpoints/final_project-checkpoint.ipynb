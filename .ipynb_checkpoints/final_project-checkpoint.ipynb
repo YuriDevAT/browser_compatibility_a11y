{
 "cells": [
  {
   "cell_type": "markdown",
   "id": "68420520-ac0f-490d-80e9-1d6109fdca4a",
   "metadata": {
    "tags": []
   },
   "source": [
    "# Browser Support For Web Accessibility API"
   ]
  },
  {
   "cell_type": "markdown",
   "id": "ada1ab2d-bc8d-438f-8bc9-73422efc396c",
   "metadata": {},
   "source": [
    "In order for people who use screen readers to perceive content on the web, they rely on the proper use of HTML tags, CSS properties, and JavaScript widgets to work correctly with the [Accessibility API](https://www.w3.org/TR/core-aam-1.1/)."
   ]
  },
  {
   "cell_type": "markdown",
   "id": "2764106f-b807-4946-8e4c-b8b6a1309072",
   "metadata": {},
   "source": [
    "There are several different browsers, as well as screen readers. Depending on which screen reader is used with which browser, the outcome slightly defers. "
   ]
  },
  {
   "cell_type": "markdown",
   "id": "ff0aaf28-175d-4008-98f4-854a79de995f",
   "metadata": {},
   "source": [
    "Not every browser supports all [HTML tags](https://developer.mozilla.org/en-US/docs/Web/HTML/Element) and [CSS properties](https://developer.mozilla.org/en-US/docs/Web/CSS/Reference#Keyword_index) currently out there, but the team behind it (link to WCAG or CSS working group) is constantly working on updates and supports to make the user experience to screen reader users the same as for users, who do not use screen readers."
   ]
  },
  {
   "cell_type": "markdown",
   "id": "5f0853aa-391e-425e-8a30-6ac5e899b704",
   "metadata": {},
   "source": [
    "Best browser support table EXAMPLE IMAGE"
   ]
  },
  {
   "cell_type": "markdown",
   "id": "35948b93-35d3-4942-bf6b-c2b65865a19d",
   "metadata": {
    "tags": []
   },
   "source": [
    "## What is this project about?"
   ]
  },
  {
   "cell_type": "markdown",
   "id": "33c67de7-5741-4517-b479-93b2ba7ba39c",
   "metadata": {},
   "source": [
    "By using the following data sets and techniques, I want to answer following questions:\n",
    "\n",
    "- How many HTML tags and CSS properties are supported?\n",
    "- Does every browser support the same (ammount) of HTML tags and CSS props?\n",
    "- Which browser supports the most tags and props?\n",
    "- How did browser support for HTML tags and CSS properties change over the years?\n",
    "- How did browsers develop over the years?\n",
    "\n",
    "The data sets can be found ...\n",
    "- w3schools.com\n",
    "- https://caniuse.com/\n",
    "- MDN to each [HTML tag](https://developer.mozilla.org/en-US/docs/Web/HTML/Element) and [CSS prop](https://developer.mozilla.org/en-US/docs/Web/CSS/)\n",
    "\n",
    "Techniques used\n",
    "- [Beautiful Soup](https://www.crummy.com/software/BeautifulSoup/)\n",
    "- [Pandas](https://pandas.pydata.org/docs/)\n",
    "\n",
    "I am going to print out all HTML tags and CSS properties using Beautiful Soup. Statistics will be done using Pandas. - First get a list of all tags and properties, then going into more advanced visualization of the data."
   ]
  },
  {
   "cell_type": "markdown",
   "id": "15f5324c-9b93-4b45-821d-2dcd7597bbc7",
   "metadata": {},
   "source": [
    "## Get all HTML tags and CSS properties"
   ]
  },
  {
   "cell_type": "markdown",
   "id": "ac625dcc-f726-4df9-8efe-c5f0c2db9830",
   "metadata": {},
   "source": [
    "I am starting my first attemped on getting all HTML tags and CSS properties by using Beautiful Soup library.\n",
    "\n",
    "Beautiful Soup helps you ......"
   ]
  },
  {
   "cell_type": "markdown",
   "id": "c3f7b52c-4676-4c90-913b-dd6f55a2bbdc",
   "metadata": {},
   "source": [
    "### HTML tags"
   ]
  },
  {
   "cell_type": "markdown",
   "id": "858443aa-21ea-4606-9d24-283d5775c303",
   "metadata": {},
   "source": [
    "Let's start with listing all the HTML tags in a table and count how many HTML tags exist."
   ]
  },
  {
   "cell_type": "code",
   "execution_count": 29,
   "id": "13cb5cc7-e33e-4e6d-af8f-9cbd60995b91",
   "metadata": {},
   "outputs": [],
   "source": [
    "from bs4 import BeautifulSoup\n",
    "import requests\n",
    "\n",
    "url = \"https://developer.mozilla.org/en-US/docs/Web/HTML/Element\"\n",
    "\n",
    "response = requests.get(url)\n",
    "soup = BeautifulSoup(response.text, \"html.parser\")\n",
    "\n",
    "tag_list = soup.find(\"nav\", class_=\"sidebar-inner\")\n",
    "tags = tag_list.find_all(\"code\")"
   ]
  },
  {
   "cell_type": "markdown",
   "id": "d773dad8-0ef1-4cb9-8bca-23363573926a",
   "metadata": {},
   "source": [
    "#### How many HTML do currently exist?"
   ]
  },
  {
   "cell_type": "code",
   "execution_count": 27,
   "id": "aa848d39-5eab-4a49-8f81-0893e34c9db9",
   "metadata": {},
   "outputs": [
    {
     "name": "stdout",
     "output_type": "stream",
     "text": [
      "There are currently 190 tags.\n"
     ]
    }
   ],
   "source": [
    "print(\"There are currently\", len(tags), \"tags.\")"
   ]
  },
  {
   "cell_type": "markdown",
   "id": "a423d815-59d0-4936-a7b1-f4fab197f4ec",
   "metadata": {},
   "source": [
    "**What is happening in this piece of code:**\n",
    "\n",
    "\n",
    "1. In order to use Beautiful soup with all its options I imported the latest version of it. Since I want to request data from the DOM I also have to import requests.\n",
    "2. Then I am storing the URL I want to get the data from in a variable called url.\n",
    "3. Next I make a GET request to fetch the raw HTML content.\n",
    "4. To use the content I have to parse it in a language Python can understand by using Beautiful Soup.\n",
    "5. Since the website itself has much content on it, I have to be more specific about the data I want to parse. Do get deeper into the DOM, I first look for the `div` the list is in by using the `.fing()` method and then get the specific data with the `.findAll()` method.\n",
    "6. To get the number of how many HTML tags exists, I used the `len` method.\n",
    "6. To list all the HTML tags of the web page I finally run a `for loop` and `print` the tags, as seen in the next step."
   ]
  },
  {
   "cell_type": "code",
   "execution_count": 33,
   "id": "2edc754c-427b-463e-bb1d-0768466b4453",
   "metadata": {},
   "outputs": [
    {
     "name": "stdout",
     "output_type": "stream",
     "text": [
      "<a>\t<abbr>\t<acronym>\t<address>\t<applet>\t<area>\t<article>\t<aside>\t<audio>\t<b>\t<base>\t<bdi>\t<bdo>\t<bgsound>\t<big>\t<blink>\t<blockquote>\t<body>\t<br>\t<button>\t<canvas>\t<caption>\t<center>\t<cite>\t<code>\t<col>\t<colgroup>\t<content>\t<data>\t<datalist>\t<dd>\t<del>\t<details>\t<dfn>\t<dialog>\t<dir>\t<div>\t<dl>\t<dt>\t<em>\t<embed>\t<fieldset>\t<figcaption>\t<figure>\t<font>\t<footer>\t<form>\t<frame>\t<frameset>\t<h1>\t<head>\t<header>\t<hgroup>\t<hr>\t<html>\t<i>\t<iframe>\t<image>\t<img>\t<input>\t<ins>\t<kbd>\t<keygen>\t<label>\t<legend>\t<li>\t<link>\t<main>\t<map>\t<mark>\t<marquee>\t<menu>\t<menuitem>\t<meta>\t<meter>\t<nav>\t<nobr>\t<noembed>\t<noframes>\t<noscript>\t<object>\t<ol>\t<optgroup>\t<option>\t<output>\t<p>\t<param>\t<picture>\t<plaintext>\t<portal>\t<pre>\t<progress>\t<q>\t<rb>\t<rp>\t<rt>\t<rtc>\t<ruby>\t<s>\t<samp>\t<script>\t<section>\t<select>\t<shadow>\t<slot>\t<small>\t<source>\t<spacer>\t<span>\t<strike>\t<strong>\t<style>\t<sub>\t<summary>\t<sup>\t<table>\t<tbody>\t<td>\t<template>\t<textarea>\t<tfoot>\t<th>\t<thead>\t<time>\t<title>\t<tr>\t<track>\t<tt>\t<u>\t<ul>\t<var>\t<video>\t<wbr>\t<xmp>\taccesskey\tautocapitalize\tautofocus\tclass\tcontenteditable\tcontextmenu\tdata-*\tdir\tdraggable\tenterkeyhint\texportparts\thidden\tid\tinert\tinputmode\tis\titemid\titemprop\titemref\titemscope\titemtype\tlang\tnonce\tpart\tslot\tspellcheck\tstyle\ttabindex\ttitle\ttranslate\tvirtualkeyboardpolicy\tx-ms-acceleratorkey\tx-ms-format-detection\t<input>\t<input type=\"button\">\t<input type=\"checkbox\">\t<input type=\"color\">\t<input type=\"date\">\t<input type=\"datetime-local\">\t<input type=\"email\">\t<input type=\"file\">\t<input type=\"hidden\">\t<input type=\"image\">\t<input type=\"month\">\t<input type=\"number\">\t<input type=\"password\">\t<input type=\"radio\">\t<input type=\"range\">\t<input type=\"reset\">\t<input type=\"search\">\t<input type=\"submit\">\t<input type=\"tel\">\t<input type=\"text\">\t<input type=\"time\">\t<input type=\"url\">\t<input type=\"week\">\t"
     ]
    }
   ],
   "source": [
    "for tag in tags:\n",
    "    print(tag.text, end= '\\t')\n",
    "    # or use 'print(tag.text)' to print each tag in a seperate line"
   ]
  },
  {
   "cell_type": "markdown",
   "id": "e1644864-ae87-4499-91cb-a3eee957b5a8",
   "metadata": {},
   "source": [
    "Since the list of tags is pretty long, and using `end= '\\t'` to print it in a single line doesn't really seem readable, I decide on storing the data in a table and sort all tags alphabetically.\n",
    "This is were pandas comes into play."
   ]
  },
  {
   "cell_type": "code",
   "execution_count": 58,
   "id": "a672805c-a42f-4711-b461-ae1ceb6acfc6",
   "metadata": {},
   "outputs": [
    {
     "data": {
      "text/html": [
       "<div>\n",
       "<style scoped>\n",
       "    .dataframe tbody tr th:only-of-type {\n",
       "        vertical-align: middle;\n",
       "    }\n",
       "\n",
       "    .dataframe tbody tr th {\n",
       "        vertical-align: top;\n",
       "    }\n",
       "\n",
       "    .dataframe thead th {\n",
       "        text-align: right;\n",
       "    }\n",
       "</style>\n",
       "<table border=\"1\" class=\"dataframe\">\n",
       "  <thead>\n",
       "    <tr style=\"text-align: right;\">\n",
       "      <th></th>\n",
       "      <th>Tags</th>\n",
       "    </tr>\n",
       "  </thead>\n",
       "  <tbody>\n",
       "    <tr>\n",
       "      <th>0</th>\n",
       "      <td>&lt;a&gt;</td>\n",
       "    </tr>\n",
       "    <tr>\n",
       "      <th>1</th>\n",
       "      <td>&lt;abbr&gt;</td>\n",
       "    </tr>\n",
       "    <tr>\n",
       "      <th>2</th>\n",
       "      <td>&lt;acronym&gt;</td>\n",
       "    </tr>\n",
       "    <tr>\n",
       "      <th>3</th>\n",
       "      <td>&lt;address&gt;</td>\n",
       "    </tr>\n",
       "    <tr>\n",
       "      <th>4</th>\n",
       "      <td>&lt;applet&gt;</td>\n",
       "    </tr>\n",
       "    <tr>\n",
       "      <th>...</th>\n",
       "      <td>...</td>\n",
       "    </tr>\n",
       "    <tr>\n",
       "      <th>185</th>\n",
       "      <td>&lt;input type=\"tel\"&gt;</td>\n",
       "    </tr>\n",
       "    <tr>\n",
       "      <th>186</th>\n",
       "      <td>&lt;input type=\"text\"&gt;</td>\n",
       "    </tr>\n",
       "    <tr>\n",
       "      <th>187</th>\n",
       "      <td>&lt;input type=\"time\"&gt;</td>\n",
       "    </tr>\n",
       "    <tr>\n",
       "      <th>188</th>\n",
       "      <td>&lt;input type=\"url\"&gt;</td>\n",
       "    </tr>\n",
       "    <tr>\n",
       "      <th>189</th>\n",
       "      <td>&lt;input type=\"week\"&gt;</td>\n",
       "    </tr>\n",
       "  </tbody>\n",
       "</table>\n",
       "<p>190 rows × 1 columns</p>\n",
       "</div>"
      ],
      "text/plain": [
       "                    Tags\n",
       "0                    <a>\n",
       "1                 <abbr>\n",
       "2              <acronym>\n",
       "3              <address>\n",
       "4               <applet>\n",
       "..                   ...\n",
       "185   <input type=\"tel\">\n",
       "186  <input type=\"text\">\n",
       "187  <input type=\"time\">\n",
       "188   <input type=\"url\">\n",
       "189  <input type=\"week\">\n",
       "\n",
       "[190 rows x 1 columns]"
      ]
     },
     "execution_count": 58,
     "metadata": {},
     "output_type": "execute_result"
    }
   ],
   "source": [
    "import pandas as pd\n",
    "\n",
    "tag_data = []\n",
    "for tag in tags:\n",
    "    tag_data.append({\"Tags\": tag.text})\n",
    "\n",
    "df = pd.DataFrame(tag_data)\n",
    "df"
   ]
  },
  {
   "cell_type": "markdown",
   "id": "653ab60f-87fc-4745-88e2-c8da5fc7025c",
   "metadata": {},
   "source": [
    "### CSS Properties"
   ]
  },
  {
   "cell_type": "markdown",
   "id": "a6d92a50-e6fa-42a4-80cb-3657749b53f9",
   "metadata": {},
   "source": [
    "All HTML tags are fetched, now I am going to do the same with all the CSS properties."
   ]
  },
  {
   "cell_type": "code",
   "execution_count": 60,
   "id": "692b3ba8-5eed-4557-8f62-21f98adb7900",
   "metadata": {},
   "outputs": [
    {
     "name": "stdout",
     "output_type": "stream",
     "text": [
      "There are currently 732 tags.\n"
     ]
    },
    {
     "data": {
      "text/html": [
       "<div>\n",
       "<style scoped>\n",
       "    .dataframe tbody tr th:only-of-type {\n",
       "        vertical-align: middle;\n",
       "    }\n",
       "\n",
       "    .dataframe tbody tr th {\n",
       "        vertical-align: top;\n",
       "    }\n",
       "\n",
       "    .dataframe thead th {\n",
       "        text-align: right;\n",
       "    }\n",
       "</style>\n",
       "<table border=\"1\" class=\"dataframe\">\n",
       "  <thead>\n",
       "    <tr style=\"text-align: right;\">\n",
       "      <th></th>\n",
       "      <th>Properties</th>\n",
       "    </tr>\n",
       "  </thead>\n",
       "  <tbody>\n",
       "    <tr>\n",
       "      <th>0</th>\n",
       "      <td>--*</td>\n",
       "    </tr>\n",
       "    <tr>\n",
       "      <th>1</th>\n",
       "      <td>-webkit-line-clamp</td>\n",
       "    </tr>\n",
       "    <tr>\n",
       "      <th>2</th>\n",
       "      <td>abs()</td>\n",
       "    </tr>\n",
       "    <tr>\n",
       "      <th>3</th>\n",
       "      <td>accent-color</td>\n",
       "    </tr>\n",
       "    <tr>\n",
       "      <th>4</th>\n",
       "      <td>acos()</td>\n",
       "    </tr>\n",
       "    <tr>\n",
       "      <th>...</th>\n",
       "      <td>...</td>\n",
       "    </tr>\n",
       "    <tr>\n",
       "      <th>727</th>\n",
       "      <td>writing-mode</td>\n",
       "    </tr>\n",
       "    <tr>\n",
       "      <th>728</th>\n",
       "      <td>resolution#x</td>\n",
       "    </tr>\n",
       "    <tr>\n",
       "      <th>729</th>\n",
       "      <td>z-index</td>\n",
       "    </tr>\n",
       "    <tr>\n",
       "      <th>730</th>\n",
       "      <td>zoom (@viewport)</td>\n",
       "    </tr>\n",
       "    <tr>\n",
       "      <th>731</th>\n",
       "      <td>--*</td>\n",
       "    </tr>\n",
       "  </tbody>\n",
       "</table>\n",
       "<p>732 rows × 1 columns</p>\n",
       "</div>"
      ],
      "text/plain": [
       "             Properties\n",
       "0                   --*\n",
       "1    -webkit-line-clamp\n",
       "2                 abs()\n",
       "3          accent-color\n",
       "4                acos()\n",
       "..                  ...\n",
       "727        writing-mode\n",
       "728        resolution#x\n",
       "729             z-index\n",
       "730    zoom (@viewport)\n",
       "731                 --*\n",
       "\n",
       "[732 rows x 1 columns]"
      ]
     },
     "execution_count": 60,
     "metadata": {},
     "output_type": "execute_result"
    }
   ],
   "source": [
    "from bs4 import BeautifulSoup\n",
    "import requests\n",
    "\n",
    "url = \"https://developer.mozilla.org/en-US/docs/Web/CSS/Reference#Keyword_index\"\n",
    "\n",
    "response = requests.get(url)\n",
    "soup = BeautifulSoup(response.text, \"html.parser\")\n",
    "\n",
    "props_list = soup.find(\"div\", id=\"sect2\")\n",
    "props = props_list.find_all(\"code\")\n",
    "\n",
    "print(\"There are currently\", len(props), \"properties.\")\n",
    "\n",
    "prop_data = []\n",
    "for prop in props:\n",
    "    prop_data.append({\"Properties\": prop.text})\n",
    "\n",
    "df = pd.DataFrame(prop_data)\n",
    "df"
   ]
  }
 ],
 "metadata": {
  "kernelspec": {
   "display_name": "Python 3 (ipykernel)",
   "language": "python",
   "name": "python3"
  },
  "language_info": {
   "codemirror_mode": {
    "name": "ipython",
    "version": 3
   },
   "file_extension": ".py",
   "mimetype": "text/x-python",
   "name": "python",
   "nbconvert_exporter": "python",
   "pygments_lexer": "ipython3",
   "version": "3.9.12"
  }
 },
 "nbformat": 4,
 "nbformat_minor": 5
}
