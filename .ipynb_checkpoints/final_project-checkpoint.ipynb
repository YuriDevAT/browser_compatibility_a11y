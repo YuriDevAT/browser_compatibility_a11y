{
 "cells": [
  {
   "cell_type": "markdown",
   "id": "68420520-ac0f-490d-80e9-1d6109fdca4a",
   "metadata": {
    "tags": []
   },
   "source": [
    "# Browser Support For Web Accessibility API"
   ]
  },
  {
   "cell_type": "markdown",
   "id": "ada1ab2d-bc8d-438f-8bc9-73422efc396c",
   "metadata": {},
   "source": [
    "In order for people who use screen readers to perceive content on the web, they rely on the proper use of HTML tags, CSS properties, and JavaScript widgets to work correctly with the [Accessibility API](https://www.w3.org/TR/core-aam-1.1/)."
   ]
  },
  {
   "cell_type": "markdown",
   "id": "2764106f-b807-4946-8e4c-b8b6a1309072",
   "metadata": {},
   "source": [
    "There are several different browsers, as well as screen readers. Depending on which screen reader is used with which browser, the outcome slightly defers. "
   ]
  },
  {
   "cell_type": "markdown",
   "id": "ff0aaf28-175d-4008-98f4-854a79de995f",
   "metadata": {},
   "source": [
    "Not every browser supports all HTML tags and CSS properties currently out there, but the team behind it (link to WCAG or CSS working group) is constantly working on updates and supports to make the user experience to screen reader users the same as for users, who do not use screen readers."
   ]
  },
  {
   "cell_type": "markdown",
   "id": "5f0853aa-391e-425e-8a30-6ac5e899b704",
   "metadata": {},
   "source": [
    "Best browser support table EXAMPLE IMAGE"
   ]
  },
  {
   "cell_type": "markdown",
   "id": "35948b93-35d3-4942-bf6b-c2b65865a19d",
   "metadata": {
    "tags": []
   },
   "source": [
    "## What is this project about?"
   ]
  },
  {
   "cell_type": "markdown",
   "id": "33c67de7-5741-4517-b479-93b2ba7ba39c",
   "metadata": {},
   "source": [
    "By using the following data sets and techniques, I want to answer following questions:\n",
    "\n",
    "- How many HTML tags and CSS properties are supported?\n",
    "- Does every browser support the same (ammount) of HTML tags and CSS props?\n",
    "- Which browser supports the most tags and props?\n",
    "- How did browser support for HTML tags and CSS properties change over the years?\n",
    "- How did browsers develop over the years?\n",
    "\n",
    "The data sets can be found ...\n",
    "- w3schools.com\n",
    "- https://caniuse.com/\n",
    "- MDN to each [HTML tag](https://developer.mozilla.org/en-US/docs/Web/HTML/Element) and [CSS prop](https://developer.mozilla.org/en-US/docs/Web/CSS/)\n",
    "\n",
    "Techniques used\n",
    "- [Beautiful Soup](https://www.crummy.com/software/BeautifulSoup/)\n",
    "- [Pandas](https://pandas.pydata.org/docs/)\n",
    "\n",
    "I am going to print out all HTML tags and CSS properties using Beautiful Soup. Statistics will be done using Pandas: first get a list of all tags and properties, then going into more advanced visualization of the data."
   ]
  }
 ],
 "metadata": {
  "kernelspec": {
   "display_name": "Python 3 (ipykernel)",
   "language": "python",
   "name": "python3"
  },
  "language_info": {
   "codemirror_mode": {
    "name": "ipython",
    "version": 3
   },
   "file_extension": ".py",
   "mimetype": "text/x-python",
   "name": "python",
   "nbconvert_exporter": "python",
   "pygments_lexer": "ipython3",
   "version": "3.9.12"
  }
 },
 "nbformat": 4,
 "nbformat_minor": 5
}
