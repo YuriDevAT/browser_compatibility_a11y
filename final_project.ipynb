{
 "cells": [
  {
   "cell_type": "markdown",
   "id": "68420520-ac0f-490d-80e9-1d6109fdca4a",
   "metadata": {
    "tags": []
   },
   "source": [
    "# Browser Support For Web Accessibility API"
   ]
  },
  {
   "cell_type": "markdown",
   "id": "ada1ab2d-bc8d-438f-8bc9-73422efc396c",
   "metadata": {},
   "source": [
    "In order for people who use screen readers to perceive content on the web, they rely on the proper use of HTML tags, CSS properties, and JavaScript widgets to work correctly with the [Accessibility API](https://www.w3.org/TR/core-aam-1.1/)."
   ]
  },
  {
   "cell_type": "markdown",
   "id": "2764106f-b807-4946-8e4c-b8b6a1309072",
   "metadata": {},
   "source": [
    "There are several different browsers, as well as screen readers. Depending on which screen reader is used with which browser, the outcome slightly defers. "
   ]
  },
  {
   "cell_type": "markdown",
   "id": "ff0aaf28-175d-4008-98f4-854a79de995f",
   "metadata": {},
   "source": [
    "Not every browser supports all [HTML tags](https://developer.mozilla.org/en-US/docs/Web/HTML/Element) and [CSS properties](https://developer.mozilla.org/en-US/docs/Web/CSS/Reference#Keyword_index) currently out there, but the team behind it (link to WCAG or CSS working group) is constantly working on updates and supports to make the user experience to screen reader users the same as for users, who do not use screen readers."
   ]
  },
  {
   "cell_type": "markdown",
   "id": "5f0853aa-391e-425e-8a30-6ac5e899b704",
   "metadata": {},
   "source": [
    "*Best browser support table EXAMPLE IMAGE\n",
    "\n",
    "*Semantic HTML"
   ]
  },
  {
   "cell_type": "markdown",
   "id": "35948b93-35d3-4942-bf6b-c2b65865a19d",
   "metadata": {
    "tags": []
   },
   "source": [
    "## What is this project about?"
   ]
  },
  {
   "cell_type": "markdown",
   "id": "33c67de7-5741-4517-b479-93b2ba7ba39c",
   "metadata": {},
   "source": [
    "By using the following data sets and techniques, I want to answer following questions:\n",
    "\n",
    "- How many HTML tags and CSS properties are supported?\n",
    "- Does every browser support the same (ammount) of HTML tags and CSS props?\n",
    "- Which browser supports the most tags and props?\n",
    "- How did browser support for HTML tags and CSS properties change over the years?\n",
    "- How did browsers develop over the years?\n",
    "\n",
    "The data sets can be found ...\n",
    "- w3schools.com\n",
    "- https://caniuse.com/\n",
    "- MDN to each [HTML tag](https://developer.mozilla.org/en-US/docs/Web/HTML/Element) and [CSS prop](https://developer.mozilla.org/en-US/docs/Web/CSS/)\n",
    "\n",
    "Techniques used\n",
    "- [Beautiful Soup](https://www.crummy.com/software/BeautifulSoup/)\n",
    "- [Pandas](https://pandas.pydata.org/docs/)\n",
    "\n",
    "I am going to print out all HTML tags and CSS properties using Beautiful Soup. Statistics will be done using Pandas. - First get a list of all tags and properties, then going into more advanced visualization of the data."
   ]
  },
  {
   "cell_type": "markdown",
   "id": "15f5324c-9b93-4b45-821d-2dcd7597bbc7",
   "metadata": {},
   "source": [
    "## Get all HTML tags and CSS properties"
   ]
  },
  {
   "cell_type": "markdown",
   "id": "ac625dcc-f726-4df9-8efe-c5f0c2db9830",
   "metadata": {},
   "source": [
    "I am starting my first attemped on getting all HTML tags and CSS properties by using Beautiful Soup library.\n",
    "\n",
    "Beautiful Soup helps you ......"
   ]
  },
  {
   "cell_type": "markdown",
   "id": "c3f7b52c-4676-4c90-913b-dd6f55a2bbdc",
   "metadata": {},
   "source": [
    "### HTML tags"
   ]
  },
  {
   "cell_type": "markdown",
   "id": "858443aa-21ea-4606-9d24-283d5775c303",
   "metadata": {},
   "source": [
    "Let's start with listing all the HTML tags in a table and count how many HTML tags exist."
   ]
  },
  {
   "cell_type": "code",
   "execution_count": 48,
   "id": "13cb5cc7-e33e-4e6d-af8f-9cbd60995b91",
   "metadata": {},
   "outputs": [],
   "source": [
    "from bs4 import BeautifulSoup\n",
    "import requests\n",
    "\n",
    "url = \"https://developer.mozilla.org/en-US/docs/Web/HTML/Element\"\n",
    "\n",
    "response = requests.get(url)\n",
    "soup = BeautifulSoup(response.text, \"html.parser\")\n",
    "\n",
    "get_nav_tag = soup.find(\"nav\", class_=\"sidebar-inner\")\n",
    "get_second_div = nav_tag.find_all(\"div\")[2]\n",
    "get_ol = get_second_div.find(\"ol\")\n",
    "get_li = get_second_div.find_all(\"li\", class_=\"toggle\")[3]\n",
    "\n",
    "tag_list = get_li.find_all(\"code\")"
   ]
  },
  {
   "cell_type": "code",
   "execution_count": 49,
   "id": "c74cecf0-835a-4b10-90ce-f239e5ebc4dc",
   "metadata": {},
   "outputs": [],
   "source": [
    "# This is definitely not a very readable and advanced approach to fetch some data, but, hey, I am still learning :)"
   ]
  },
  {
   "cell_type": "markdown",
   "id": "d773dad8-0ef1-4cb9-8bca-23363573926a",
   "metadata": {},
   "source": [
    "#### How many HTML do currently exist?"
   ]
  },
  {
   "cell_type": "code",
   "execution_count": 43,
   "id": "aa848d39-5eab-4a49-8f81-0893e34c9db9",
   "metadata": {},
   "outputs": [
    {
     "name": "stdout",
     "output_type": "stream",
     "text": [
      "There are currently 134 tags.\n"
     ]
    }
   ],
   "source": [
    "print(\"There are currently\", len(tag_list), \"tags.\")"
   ]
  },
  {
   "cell_type": "markdown",
   "id": "a423d815-59d0-4936-a7b1-f4fab197f4ec",
   "metadata": {},
   "source": [
    "**What is happening in this piece of code:**\n",
    "\n",
    "\n",
    "1. In order to use Beautiful soup with all its options I imported the latest version of it. Since I want to request data from the DOM I also have to import requests.\n",
    "2. Then I am storing the URL I want to get the data from in a variable called url.\n",
    "3. Next I make a GET request to fetch the raw HTML content.\n",
    "4. To use the content I have to parse it in a language Python can understand by using Beautiful Soup.\n",
    "5. Since the website itself has much content on it, I have to be more specific about the data I want to parse. Do get deeper into the DOM, I first look for the `div` the list is in by using the `.find()` method and then get the specific data with the `.findAll()` method.\n",
    "6. To get the number of how many HTML tags exists, I used the `len` method.\n",
    "6. To list all the HTML tags of the web page I finally run a `for loop` and `print` the tags, as seen in the next step."
   ]
  },
  {
   "cell_type": "code",
   "execution_count": 64,
   "id": "2edc754c-427b-463e-bb1d-0768466b4453",
   "metadata": {},
   "outputs": [
    {
     "name": "stdout",
     "output_type": "stream",
     "text": [
      "<a>\n",
      "<abbr>\n",
      "<acronym>\n",
      "<address>\n",
      "<applet>\n",
      "<area>\n",
      "<article>\n",
      "<aside>\n",
      "<audio>\n",
      "<b>\n",
      "<base>\n",
      "<bdi>\n",
      "<bdo>\n",
      "<bgsound>\n",
      "<big>\n",
      "<blink>\n",
      "<blockquote>\n",
      "<body>\n",
      "<br>\n",
      "<button>\n",
      "<canvas>\n",
      "<caption>\n",
      "<center>\n",
      "<cite>\n",
      "<code>\n",
      "<col>\n",
      "<colgroup>\n",
      "<content>\n",
      "<data>\n",
      "<datalist>\n",
      "<dd>\n",
      "<del>\n",
      "<details>\n",
      "<dfn>\n",
      "<dialog>\n",
      "<dir>\n",
      "<div>\n",
      "<dl>\n",
      "<dt>\n",
      "<em>\n",
      "<embed>\n",
      "<fieldset>\n",
      "<figcaption>\n",
      "<figure>\n",
      "<font>\n",
      "<footer>\n",
      "<form>\n",
      "<frame>\n",
      "<frameset>\n",
      "<h1>\n",
      "<head>\n",
      "<header>\n",
      "<hgroup>\n",
      "<hr>\n",
      "<html>\n",
      "<i>\n",
      "<iframe>\n",
      "<image>\n",
      "<img>\n",
      "<input>\n",
      "<ins>\n",
      "<kbd>\n",
      "<keygen>\n",
      "<label>\n",
      "<legend>\n",
      "<li>\n",
      "<link>\n",
      "<main>\n",
      "<map>\n",
      "<mark>\n",
      "<marquee>\n",
      "<menu>\n",
      "<menuitem>\n",
      "<meta>\n",
      "<meter>\n",
      "<nav>\n",
      "<nobr>\n",
      "<noembed>\n",
      "<noframes>\n",
      "<noscript>\n",
      "<object>\n",
      "<ol>\n",
      "<optgroup>\n",
      "<option>\n",
      "<output>\n",
      "<p>\n",
      "<param>\n",
      "<picture>\n",
      "<plaintext>\n",
      "<portal>\n",
      "<pre>\n",
      "<progress>\n",
      "<q>\n",
      "<rb>\n",
      "<rp>\n",
      "<rt>\n",
      "<rtc>\n",
      "<ruby>\n",
      "<s>\n",
      "<samp>\n",
      "<script>\n",
      "<section>\n",
      "<select>\n",
      "<shadow>\n",
      "<slot>\n",
      "<small>\n",
      "<source>\n",
      "<spacer>\n",
      "<span>\n",
      "<strike>\n",
      "<strong>\n",
      "<style>\n",
      "<sub>\n",
      "<summary>\n",
      "<sup>\n",
      "<table>\n",
      "<tbody>\n",
      "<td>\n",
      "<template>\n",
      "<textarea>\n",
      "<tfoot>\n",
      "<th>\n",
      "<thead>\n",
      "<time>\n",
      "<title>\n",
      "<tr>\n",
      "<track>\n",
      "<tt>\n",
      "<u>\n",
      "<ul>\n",
      "<var>\n",
      "<video>\n",
      "<wbr>\n",
      "<xmp>\n",
      "[<code>&lt;a&gt;</code>, <code>&lt;abbr&gt;</code>, <code>&lt;acronym&gt;</code>, <code>&lt;address&gt;</code>, <code>&lt;applet&gt;</code>, <code>&lt;area&gt;</code>, <code>&lt;article&gt;</code>, <code>&lt;aside&gt;</code>, <code>&lt;audio&gt;</code>, <code>&lt;b&gt;</code>, <code>&lt;base&gt;</code>, <code>&lt;bdi&gt;</code>, <code>&lt;bdo&gt;</code>, <code>&lt;bgsound&gt;</code>, <code>&lt;big&gt;</code>, <code>&lt;blink&gt;</code>, <code>&lt;blockquote&gt;</code>, <code>&lt;body&gt;</code>, <code>&lt;br&gt;</code>, <code>&lt;button&gt;</code>, <code>&lt;canvas&gt;</code>, <code>&lt;caption&gt;</code>, <code>&lt;center&gt;</code>, <code>&lt;cite&gt;</code>, <code>&lt;code&gt;</code>, <code>&lt;col&gt;</code>, <code>&lt;colgroup&gt;</code>, <code>&lt;content&gt;</code>, <code>&lt;data&gt;</code>, <code>&lt;datalist&gt;</code>, <code>&lt;dd&gt;</code>, <code>&lt;del&gt;</code>, <code>&lt;details&gt;</code>, <code>&lt;dfn&gt;</code>, <code>&lt;dialog&gt;</code>, <code>&lt;dir&gt;</code>, <code>&lt;div&gt;</code>, <code>&lt;dl&gt;</code>, <code>&lt;dt&gt;</code>, <code>&lt;em&gt;</code>, <code>&lt;embed&gt;</code>, <code>&lt;fieldset&gt;</code>, <code>&lt;figcaption&gt;</code>, <code>&lt;figure&gt;</code>, <code>&lt;font&gt;</code>, <code>&lt;footer&gt;</code>, <code>&lt;form&gt;</code>, <code>&lt;frame&gt;</code>, <code>&lt;frameset&gt;</code>, <code>&lt;h1&gt;</code>, <code>&lt;head&gt;</code>, <code>&lt;header&gt;</code>, <code>&lt;hgroup&gt;</code>, <code>&lt;hr&gt;</code>, <code>&lt;html&gt;</code>, <code>&lt;i&gt;</code>, <code>&lt;iframe&gt;</code>, <code>&lt;image&gt;</code>, <code>&lt;img&gt;</code>, <code>&lt;input&gt;</code>, <code>&lt;ins&gt;</code>, <code>&lt;kbd&gt;</code>, <code>&lt;keygen&gt;</code>, <code>&lt;label&gt;</code>, <code>&lt;legend&gt;</code>, <code>&lt;li&gt;</code>, <code>&lt;link&gt;</code>, <code>&lt;main&gt;</code>, <code>&lt;map&gt;</code>, <code>&lt;mark&gt;</code>, <code>&lt;marquee&gt;</code>, <code>&lt;menu&gt;</code>, <code>&lt;menuitem&gt;</code>, <code>&lt;meta&gt;</code>, <code>&lt;meter&gt;</code>, <code>&lt;nav&gt;</code>, <code>&lt;nobr&gt;</code>, <code>&lt;noembed&gt;</code>, <code>&lt;noframes&gt;</code>, <code>&lt;noscript&gt;</code>, <code>&lt;object&gt;</code>, <code>&lt;ol&gt;</code>, <code>&lt;optgroup&gt;</code>, <code>&lt;option&gt;</code>, <code>&lt;output&gt;</code>, <code>&lt;p&gt;</code>, <code>&lt;param&gt;</code>, <code>&lt;picture&gt;</code>, <code>&lt;plaintext&gt;</code>, <code>&lt;portal&gt;</code>, <code>&lt;pre&gt;</code>, <code>&lt;progress&gt;</code>, <code>&lt;q&gt;</code>, <code>&lt;rb&gt;</code>, <code>&lt;rp&gt;</code>, <code>&lt;rt&gt;</code>, <code>&lt;rtc&gt;</code>, <code>&lt;ruby&gt;</code>, <code>&lt;s&gt;</code>, <code>&lt;samp&gt;</code>, <code>&lt;script&gt;</code>, <code>&lt;section&gt;</code>, <code>&lt;select&gt;</code>, <code>&lt;shadow&gt;</code>, <code>&lt;slot&gt;</code>, <code>&lt;small&gt;</code>, <code>&lt;source&gt;</code>, <code>&lt;spacer&gt;</code>, <code>&lt;span&gt;</code>, <code>&lt;strike&gt;</code>, <code>&lt;strong&gt;</code>, <code>&lt;style&gt;</code>, <code>&lt;sub&gt;</code>, <code>&lt;summary&gt;</code>, <code>&lt;sup&gt;</code>, <code>&lt;table&gt;</code>, <code>&lt;tbody&gt;</code>, <code>&lt;td&gt;</code>, <code>&lt;template&gt;</code>, <code>&lt;textarea&gt;</code>, <code>&lt;tfoot&gt;</code>, <code>&lt;th&gt;</code>, <code>&lt;thead&gt;</code>, <code>&lt;time&gt;</code>, <code>&lt;title&gt;</code>, <code>&lt;tr&gt;</code>, <code>&lt;track&gt;</code>, <code>&lt;tt&gt;</code>, <code>&lt;u&gt;</code>, <code>&lt;ul&gt;</code>, <code>&lt;var&gt;</code>, <code>&lt;video&gt;</code>, <code>&lt;wbr&gt;</code>, <code>&lt;xmp&gt;</code>]\n"
     ]
    }
   ],
   "source": [
    "for tags in tag_list:\n",
    "    print(tags.text)\n",
    "    # or use print(tags.text, end= '\\t') to print all the tags in a single line and save some space.\n",
    "\n"
   ]
  },
  {
   "cell_type": "markdown",
   "id": "846c842d-0977-41ca-a45d-800ea7b9fb2c",
   "metadata": {},
   "source": [
    "### Problems\n",
    "Since HTML5 showed up in 2015 some of these HTML tags are already **deprecated**, which means, the usage of these tags brings some certain risk:\n",
    "They may get no support from the browser anymore. This could lead in a unexpacted behaviour not being able to interact with the website as the user wanted.\n",
    "\n",
    "This is especially problematik for screen reader users who rely on the correct usage of **semantic HTML**, in order to be able perceive all the information of the website and interact with it."
   ]
  },
  {
   "cell_type": "markdown",
   "id": "e1644864-ae87-4499-91cb-a3eee957b5a8",
   "metadata": {},
   "source": [
    "## Pandas\n",
    "\n",
    "Since the list of tags is pretty long, and using `end= '\\t'` to print it in a single line doesn't really seem readable, I decide on storing the data in a table and sort all tags alphabetically.\n",
    "This is were pandas comes into play."
   ]
  },
  {
   "cell_type": "code",
   "execution_count": 75,
   "id": "a672805c-a42f-4711-b461-ae1ceb6acfc6",
   "metadata": {},
   "outputs": [
    {
     "data": {
      "text/html": [
       "<div>\n",
       "<style scoped>\n",
       "    .dataframe tbody tr th:only-of-type {\n",
       "        vertical-align: middle;\n",
       "    }\n",
       "\n",
       "    .dataframe tbody tr th {\n",
       "        vertical-align: top;\n",
       "    }\n",
       "\n",
       "    .dataframe thead th {\n",
       "        text-align: right;\n",
       "    }\n",
       "</style>\n",
       "<table border=\"1\" class=\"dataframe\">\n",
       "  <thead>\n",
       "    <tr style=\"text-align: right;\">\n",
       "      <th></th>\n",
       "      <th>0</th>\n",
       "    </tr>\n",
       "  </thead>\n",
       "  <tbody>\n",
       "    <tr>\n",
       "      <th>0</th>\n",
       "      <td>&lt;a&gt;</td>\n",
       "    </tr>\n",
       "    <tr>\n",
       "      <th>1</th>\n",
       "      <td>&lt;abbr&gt;</td>\n",
       "    </tr>\n",
       "    <tr>\n",
       "      <th>2</th>\n",
       "      <td>&lt;acronym&gt;</td>\n",
       "    </tr>\n",
       "    <tr>\n",
       "      <th>3</th>\n",
       "      <td>&lt;address&gt;</td>\n",
       "    </tr>\n",
       "    <tr>\n",
       "      <th>4</th>\n",
       "      <td>&lt;applet&gt;</td>\n",
       "    </tr>\n",
       "    <tr>\n",
       "      <th>...</th>\n",
       "      <td>...</td>\n",
       "    </tr>\n",
       "    <tr>\n",
       "      <th>129</th>\n",
       "      <td>&lt;ul&gt;</td>\n",
       "    </tr>\n",
       "    <tr>\n",
       "      <th>130</th>\n",
       "      <td>&lt;var&gt;</td>\n",
       "    </tr>\n",
       "    <tr>\n",
       "      <th>131</th>\n",
       "      <td>&lt;video&gt;</td>\n",
       "    </tr>\n",
       "    <tr>\n",
       "      <th>132</th>\n",
       "      <td>&lt;wbr&gt;</td>\n",
       "    </tr>\n",
       "    <tr>\n",
       "      <th>133</th>\n",
       "      <td>&lt;xmp&gt;</td>\n",
       "    </tr>\n",
       "  </tbody>\n",
       "</table>\n",
       "<p>134 rows × 1 columns</p>\n",
       "</div>"
      ],
      "text/plain": [
       "             0\n",
       "0          <a>\n",
       "1       <abbr>\n",
       "2    <acronym>\n",
       "3    <address>\n",
       "4     <applet>\n",
       "..         ...\n",
       "129       <ul>\n",
       "130      <var>\n",
       "131    <video>\n",
       "132      <wbr>\n",
       "133      <xmp>\n",
       "\n",
       "[134 rows x 1 columns]"
      ]
     },
     "execution_count": 75,
     "metadata": {},
     "output_type": "execute_result"
    }
   ],
   "source": [
    "import pandas as pd\n",
    "\n",
    "tag_data = []\n",
    "for tag in tag_list:\n",
    "    tag_data.append({tag.text})\n",
    "\n",
    "df = pd.DataFrame(tag_data)\n",
    "df"
   ]
  },
  {
   "cell_type": "markdown",
   "id": "c055289c-4858-4af2-b6a5-93742f1cc389",
   "metadata": {},
   "source": [
    "Nice, I was able to get all tags in a table. But this is still not what I want my output to look like. I want to create a table were all tags are separated alphabetically. Therefore I added some additional information for the program to operate the task."
   ]
  },
  {
   "cell_type": "code",
   "execution_count": 72,
   "id": "e11de169-5024-42a5-909d-ff9a8b82506c",
   "metadata": {},
   "outputs": [],
   "source": [
    "columns = {}\n",
    "\n",
    "for new_tag in tag_data:\n",
    "    new_list = list(new_tag)\n",
    "    first_letter = new_list[0].upper()\n",
    "    if first_letter in columns:\n",
    "        columns[first_letter].append(new_list)\n",
    "    else:\n",
    "        columns[first_letter] = [new_list]\n",
    "            \n",
    "#df = pd.DataFrame(columns)\n",
    "#print(df)\n"
   ]
  },
  {
   "cell_type": "markdown",
   "id": "653ab60f-87fc-4745-88e2-c8da5fc7025c",
   "metadata": {},
   "source": [
    "### CSS Properties"
   ]
  },
  {
   "cell_type": "markdown",
   "id": "a6d92a50-e6fa-42a4-80cb-3657749b53f9",
   "metadata": {},
   "source": [
    "All HTML tags are fetched, now I am going to do the same with all the CSS properties."
   ]
  },
  {
   "cell_type": "code",
   "execution_count": 69,
   "id": "692b3ba8-5eed-4557-8f62-21f98adb7900",
   "metadata": {},
   "outputs": [
    {
     "name": "stdout",
     "output_type": "stream",
     "text": [
      "There are currently 732 properties.\n"
     ]
    }
   ],
   "source": [
    "from bs4 import BeautifulSoup\n",
    "import requests\n",
    "\n",
    "url = \"https://developer.mozilla.org/en-US/docs/Web/CSS/Reference#Keyword_index\"\n",
    "\n",
    "response = requests.get(url)\n",
    "soup = BeautifulSoup(response.text, \"html.parser\")\n",
    "\n",
    "props_list = soup.find(\"div\", id=\"sect2\")\n",
    "props = props_list.find_all(\"code\")\n",
    "\n",
    "print(\"There are currently\", len(props), \"properties.\")\n",
    "\n",
    "prop_data = []\n",
    "for prop in props:\n",
    "    prop_data.append({\"Properties\": prop.text})\n",
    "    \n",
    "#df = pd.DataFrame(prop_data)\n",
    "#df"
   ]
  }
 ],
 "metadata": {
  "kernelspec": {
   "display_name": "Python 3 (ipykernel)",
   "language": "python",
   "name": "python3"
  },
  "language_info": {
   "codemirror_mode": {
    "name": "ipython",
    "version": 3
   },
   "file_extension": ".py",
   "mimetype": "text/x-python",
   "name": "python",
   "nbconvert_exporter": "python",
   "pygments_lexer": "ipython3",
   "version": "3.9.12"
  }
 },
 "nbformat": 4,
 "nbformat_minor": 5
}
