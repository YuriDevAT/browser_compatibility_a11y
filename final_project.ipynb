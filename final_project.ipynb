{
 "cells": [
  {
   "cell_type": "markdown",
   "id": "68420520-ac0f-490d-80e9-1d6109fdca4a",
   "metadata": {
    "tags": []
   },
   "source": [
    "# Browser Support For Web Accessibility API"
   ]
  },
  {
   "cell_type": "markdown",
   "id": "ada1ab2d-bc8d-438f-8bc9-73422efc396c",
   "metadata": {},
   "source": [
    "In order for people who use screen readers to perceive content on the web, they rely on the proper use of HTML tags, CSS properties, and JavaScript widgets to work correctly with the [Accessibility API](https://www.w3.org/TR/core-aam-1.1/)."
   ]
  },
  {
   "cell_type": "markdown",
   "id": "2764106f-b807-4946-8e4c-b8b6a1309072",
   "metadata": {},
   "source": [
    "There are several different browsers, as well as screen readers. Depending on which screen reader is used with which browser, the outcome slightly defers. "
   ]
  },
  {
   "cell_type": "markdown",
   "id": "ff0aaf28-175d-4008-98f4-854a79de995f",
   "metadata": {},
   "source": [
    "Not every browser supports all [HTML tags](https://developer.mozilla.org/en-US/docs/Web/HTML/Element) and [CSS properties](https://developer.mozilla.org/en-US/docs/Web/CSS/Reference#Keyword_index) currently out there, but the team behind it (link to WCAG or CSS working group) is constantly working on updates and supports to make the user experience to screen reader users the same as for users, who do not use screen readers."
   ]
  },
  {
   "cell_type": "markdown",
   "id": "5f0853aa-391e-425e-8a30-6ac5e899b704",
   "metadata": {},
   "source": [
    "Best browser support table EXAMPLE IMAGE"
   ]
  },
  {
   "cell_type": "markdown",
   "id": "35948b93-35d3-4942-bf6b-c2b65865a19d",
   "metadata": {
    "tags": []
   },
   "source": [
    "## What is this project about?"
   ]
  },
  {
   "cell_type": "markdown",
   "id": "33c67de7-5741-4517-b479-93b2ba7ba39c",
   "metadata": {},
   "source": [
    "By using the following data sets and techniques, I want to answer following questions:\n",
    "\n",
    "- How many HTML tags and CSS properties are supported?\n",
    "- Does every browser support the same (ammount) of HTML tags and CSS props?\n",
    "- Which browser supports the most tags and props?\n",
    "- How did browser support for HTML tags and CSS properties change over the years?\n",
    "- How did browsers develop over the years?\n",
    "\n",
    "The data sets can be found ...\n",
    "- w3schools.com\n",
    "- https://caniuse.com/\n",
    "- MDN to each [HTML tag](https://developer.mozilla.org/en-US/docs/Web/HTML/Element) and [CSS prop](https://developer.mozilla.org/en-US/docs/Web/CSS/)\n",
    "\n",
    "Techniques used\n",
    "- [Beautiful Soup](https://www.crummy.com/software/BeautifulSoup/)\n",
    "- [Pandas](https://pandas.pydata.org/docs/)\n",
    "\n",
    "I am going to print out all HTML tags and CSS properties using Beautiful Soup. Statistics will be done using Pandas. - First get a list of all tags and properties, then going into more advanced visualization of the data."
   ]
  },
  {
   "cell_type": "markdown",
   "id": "15f5324c-9b93-4b45-821d-2dcd7597bbc7",
   "metadata": {},
   "source": [
    "## Get all HTML tags and CSS properties"
   ]
  },
  {
   "cell_type": "markdown",
   "id": "ac625dcc-f726-4df9-8efe-c5f0c2db9830",
   "metadata": {},
   "source": [
    "I am starting my first attemped on getting all HTML tags and CSS properties by using Beautiful Soup library.\n",
    "\n",
    "Beautiful Soup helps you ......"
   ]
  },
  {
   "cell_type": "markdown",
   "id": "858443aa-21ea-4606-9d24-283d5775c303",
   "metadata": {},
   "source": [
    "Let's start with listing how many HTML tags exist and what they are."
   ]
  },
  {
   "cell_type": "code",
   "execution_count": 8,
   "id": "13cb5cc7-e33e-4e6d-af8f-9cbd60995b91",
   "metadata": {},
   "outputs": [
    {
     "ename": "AttributeError",
     "evalue": "'NoneType' object has no attribute 'find_all'",
     "output_type": "error",
     "traceback": [
      "\u001b[0;31m---------------------------------------------------------------------------\u001b[0m",
      "\u001b[0;31mAttributeError\u001b[0m                            Traceback (most recent call last)",
      "Input \u001b[0;32mIn [8]\u001b[0m, in \u001b[0;36m<cell line: 10>\u001b[0;34m()\u001b[0m\n\u001b[1;32m      7\u001b[0m soup \u001b[38;5;241m=\u001b[39m BeautifulSoup(response\u001b[38;5;241m.\u001b[39mtext, \u001b[38;5;124m\"\u001b[39m\u001b[38;5;124mhtml.parser\u001b[39m\u001b[38;5;124m\"\u001b[39m)\n\u001b[1;32m      9\u001b[0m reference_list \u001b[38;5;241m=\u001b[39m soup\u001b[38;5;241m.\u001b[39mfind(\u001b[38;5;124m\"\u001b[39m\u001b[38;5;124mdiv\u001b[39m\u001b[38;5;124m\"\u001b[39m, class_\u001b[38;5;241m=\u001b[39m\u001b[38;5;124m\"\u001b[39m\u001b[38;5;124mindex-list-section\u001b[39m\u001b[38;5;124m\"\u001b[39m)\n\u001b[0;32m---> 10\u001b[0m references \u001b[38;5;241m=\u001b[39m \u001b[43mreference_list\u001b[49m\u001b[38;5;241;43m.\u001b[39;49m\u001b[43mfind_all\u001b[49m(\u001b[38;5;124m\"\u001b[39m\u001b[38;5;124ma\u001b[39m\u001b[38;5;124m\"\u001b[39m)\n\u001b[1;32m     12\u001b[0m \u001b[38;5;28;01mfor\u001b[39;00m reference \u001b[38;5;129;01min\u001b[39;00m references:\n\u001b[1;32m     13\u001b[0m     \u001b[38;5;28mprint\u001b[39m(reference\u001b[38;5;241m.\u001b[39mtext)\n",
      "\u001b[0;31mAttributeError\u001b[0m: 'NoneType' object has no attribute 'find_all'"
     ]
    }
   ],
   "source": [
    "import requests\n",
    "from bs4 import BeautifulSoup\n",
    "\n",
    "url = \"https://developer.mozilla.org/en-US/docs/Web/HTML/Element\"\n",
    "\n",
    "response = requests.get(url)\n",
    "soup = BeautifulSoup(response.text, \"html.parser\")\n",
    "\n",
    "reference_list = soup.find(\"div\", class_=\"index-list-section\")\n",
    "references = reference_list.find_all(\"a\")\n",
    "\n",
    "for reference in references:\n",
    "    print(reference.text)\n"
   ]
  },
  {
   "cell_type": "markdown",
   "id": "a423d815-59d0-4936-a7b1-f4fab197f4ec",
   "metadata": {},
   "source": [
    "What is hap"
   ]
  },
  {
   "cell_type": "code",
   "execution_count": 7,
   "id": "692b3ba8-5eed-4557-8f62-21f98adb7900",
   "metadata": {},
   "outputs": [
    {
     "ename": "AttributeError",
     "evalue": "'NoneType' object has no attribute 'find_all'",
     "output_type": "error",
     "traceback": [
      "\u001b[0;31m---------------------------------------------------------------------------\u001b[0m",
      "\u001b[0;31mAttributeError\u001b[0m                            Traceback (most recent call last)",
      "Input \u001b[0;32mIn [7]\u001b[0m, in \u001b[0;36m<cell line: 7>\u001b[0;34m()\u001b[0m\n\u001b[1;32m      4\u001b[0m soup \u001b[38;5;241m=\u001b[39m BeautifulSoup(response\u001b[38;5;241m.\u001b[39mtext, \u001b[38;5;124m\"\u001b[39m\u001b[38;5;124mhtml.parser\u001b[39m\u001b[38;5;124m\"\u001b[39m)\n\u001b[1;32m      6\u001b[0m reference_list \u001b[38;5;241m=\u001b[39m soup\u001b[38;5;241m.\u001b[39mfind(\u001b[38;5;124m\"\u001b[39m\u001b[38;5;124mdl\u001b[39m\u001b[38;5;124m\"\u001b[39m, class_\u001b[38;5;241m=\u001b[39m\u001b[38;5;124m\"\u001b[39m\u001b[38;5;124mcss-index\u001b[39m\u001b[38;5;124m\"\u001b[39m)\n\u001b[0;32m----> 7\u001b[0m references \u001b[38;5;241m=\u001b[39m \u001b[43mreference_list\u001b[49m\u001b[38;5;241;43m.\u001b[39;49m\u001b[43mfind_all\u001b[49m(\u001b[38;5;124m\"\u001b[39m\u001b[38;5;124mdt\u001b[39m\u001b[38;5;124m\"\u001b[39m)\n\u001b[1;32m      9\u001b[0m \u001b[38;5;28;01mfor\u001b[39;00m reference \u001b[38;5;129;01min\u001b[39;00m references:\n\u001b[1;32m     10\u001b[0m     \u001b[38;5;28mprint\u001b[39m(reference\u001b[38;5;241m.\u001b[39mtext)\n",
      "\u001b[0;31mAttributeError\u001b[0m: 'NoneType' object has no attribute 'find_all'"
     ]
    }
   ],
   "source": [
    "url = \"https://developer.mozilla.org/en-US/docs/Web/CSS/Reference#Keyword_index\"\n",
    "\n",
    "response = requests.get(url)\n",
    "soup = BeautifulSoup(response.text, \"html.parser\")\n",
    "\n",
    "reference_list = soup.find(\"dl\", class_=\"css-index\")\n",
    "references = reference_list.find_all(\"dt\")\n",
    "\n",
    "for reference in references:\n",
    "    print(reference.text)\n"
   ]
  }
 ],
 "metadata": {
  "kernelspec": {
   "display_name": "Python 3 (ipykernel)",
   "language": "python",
   "name": "python3"
  },
  "language_info": {
   "codemirror_mode": {
    "name": "ipython",
    "version": 3
   },
   "file_extension": ".py",
   "mimetype": "text/x-python",
   "name": "python",
   "nbconvert_exporter": "python",
   "pygments_lexer": "ipython3",
   "version": "3.9.12"
  }
 },
 "nbformat": 4,
 "nbformat_minor": 5
}
